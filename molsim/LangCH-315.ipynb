{
 "cells": [
  {
   "cell_type": "markdown",
   "metadata": {},
   "source": [
    "### After the researcher did the fitting, she obtained the following values:\n",
    "    qsat = 4.72 mmol/g\n",
    "    k(263) = 6.75e-06 1/Pa\n",
    "    k(303) = 1.48e-06 1/Pa\n",
    "    k(343) = 5.16e-07 1/Pa"
   ]
  },
  {
   "cell_type": "markdown",
   "metadata": {},
   "source": [
    "### Import Your Modules"
   ]
  },
  {
   "cell_type": "code",
   "execution_count": null,
   "metadata": {},
   "outputs": [],
   "source": [
    "# numpy will be used to convert lists to arrays and to use log, exp and fitting functions\n",
    "import numpy as np \n",
    "# matplotlib will be used for plotting\n",
    "import matplotlib.pyplot as plt\n",
    "# other necessary modules\n"
   ]
  },
  {
   "cell_type": "markdown",
   "metadata": {},
   "source": [
    "### Use the Van't Hoff equation to obtain k0 and Q"
   ]
  },
  {
   "cell_type": "code",
   "execution_count": null,
   "metadata": {},
   "outputs": [],
   "source": [
    "# Group the temperatures and K values in arrays\n",
    "\n",
    "\n",
    "# We know that we need to plot lnk vs. 1/T\n",
    "\n",
    "\n",
    "# Plot of lnk vs. 1/T\n",
    "\n",
    "\n",
    "# Solve for the unknowns by linear fitting\n",
    "\n",
    "\n",
    "# Print the results"
   ]
  },
  {
   "cell_type": "markdown",
   "metadata": {},
   "source": [
    "### Calculate Henry's coefficients for the different temperatures"
   ]
  },
  {
   "cell_type": "code",
   "execution_count": null,
   "metadata": {},
   "outputs": [],
   "source": [
    "# Calculating the Henry's coefficients\n",
    "\n",
    "\n",
    "# Remember the formula for Kh (mmol/(g.Pa))\n",
    "\n",
    "\n",
    "#print the results"
   ]
  }
 ],
 "metadata": {
  "kernelspec": {
   "display_name": "Python 3",
   "language": "python",
   "name": "python3"
  },
  "language_info": {
   "codemirror_mode": {
    "name": "ipython",
    "version": 3
   },
   "file_extension": ".py",
   "mimetype": "text/x-python",
   "name": "python",
   "nbconvert_exporter": "python",
   "pygments_lexer": "ipython3",
   "version": "3.7.10"
  }
 },
 "nbformat": 4,
 "nbformat_minor": 4
}
